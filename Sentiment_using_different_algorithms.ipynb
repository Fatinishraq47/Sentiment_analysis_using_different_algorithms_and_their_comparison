{
  "nbformat": 4,
  "nbformat_minor": 0,
  "metadata": {
    "colab": {
      "name": "Sentiment_using_different_algorithms.ipynb",
      "provenance": [],
      "authorship_tag": "ABX9TyNmJ56fIeR/h7x1PDqPe1sg",
      "include_colab_link": true
    },
    "kernelspec": {
      "name": "python3",
      "display_name": "Python 3"
    },
    "language_info": {
      "name": "python"
    }
  },
  "cells": [
    {
      "cell_type": "markdown",
      "metadata": {
        "id": "view-in-github",
        "colab_type": "text"
      },
      "source": [
        "<a href=\"https://colab.research.google.com/github/Fatinishraq47/Sentiment_analysis_using_different_algorithms_and_their_comparison/blob/main/Sentiment_using_different_algorithms.ipynb\" target=\"_parent\"><img src=\"https://colab.research.google.com/assets/colab-badge.svg\" alt=\"Open In Colab\"/></a>"
      ]
    },
    {
      "cell_type": "markdown",
      "metadata": {
        "id": "2Vcik3G2Sjsj"
      },
      "source": [
        ""
      ]
    },
    {
      "cell_type": "markdown",
      "metadata": {
        "id": "0bGlxDlpSnte"
      },
      "source": [
        "**Importing Necessary Libraries**"
      ]
    },
    {
      "cell_type": "code",
      "metadata": {
        "id": "oZEYvgEW3bfu"
      },
      "source": [
        "import pandas as pd\n",
        "import numpy as np\n",
        "import nltk\n",
        "from nltk.corpus import stopwords\n",
        "from nltk import word_tokenize\n",
        "import string\n",
        "import re\n"
      ],
      "execution_count": 1,
      "outputs": []
    },
    {
      "cell_type": "markdown",
      "metadata": {
        "id": "jVoLk4hJS6vn"
      },
      "source": [
        "**Loading the dataset**"
      ]
    },
    {
      "cell_type": "code",
      "metadata": {
        "id": "vNDneEAm49Yh"
      },
      "source": [
        "train_set = pd.read_csv('train.csv')\n",
        "test_set = pd.read_csv('test.csv')"
      ],
      "execution_count": 2,
      "outputs": []
    },
    {
      "cell_type": "code",
      "metadata": {
        "colab": {
          "base_uri": "https://localhost:8080/",
          "height": 203
        },
        "id": "DegkhKtL5FPs",
        "outputId": "b538189b-b111-40a7-a21b-8634e0decd88"
      },
      "source": [
        "train_set.head()"
      ],
      "execution_count": 3,
      "outputs": [
        {
          "output_type": "execute_result",
          "data": {
            "text/html": [
              "<div>\n",
              "<style scoped>\n",
              "    .dataframe tbody tr th:only-of-type {\n",
              "        vertical-align: middle;\n",
              "    }\n",
              "\n",
              "    .dataframe tbody tr th {\n",
              "        vertical-align: top;\n",
              "    }\n",
              "\n",
              "    .dataframe thead th {\n",
              "        text-align: right;\n",
              "    }\n",
              "</style>\n",
              "<table border=\"1\" class=\"dataframe\">\n",
              "  <thead>\n",
              "    <tr style=\"text-align: right;\">\n",
              "      <th></th>\n",
              "      <th>id</th>\n",
              "      <th>label</th>\n",
              "      <th>tweet</th>\n",
              "    </tr>\n",
              "  </thead>\n",
              "  <tbody>\n",
              "    <tr>\n",
              "      <th>0</th>\n",
              "      <td>1</td>\n",
              "      <td>0</td>\n",
              "      <td>@user when a father is dysfunctional and is s...</td>\n",
              "    </tr>\n",
              "    <tr>\n",
              "      <th>1</th>\n",
              "      <td>2</td>\n",
              "      <td>0</td>\n",
              "      <td>@user @user thanks for #lyft credit i can't us...</td>\n",
              "    </tr>\n",
              "    <tr>\n",
              "      <th>2</th>\n",
              "      <td>3</td>\n",
              "      <td>0</td>\n",
              "      <td>bihday your majesty</td>\n",
              "    </tr>\n",
              "    <tr>\n",
              "      <th>3</th>\n",
              "      <td>4</td>\n",
              "      <td>0</td>\n",
              "      <td>#model   i love u take with u all the time in ...</td>\n",
              "    </tr>\n",
              "    <tr>\n",
              "      <th>4</th>\n",
              "      <td>5</td>\n",
              "      <td>0</td>\n",
              "      <td>factsguide: society now    #motivation</td>\n",
              "    </tr>\n",
              "  </tbody>\n",
              "</table>\n",
              "</div>"
            ],
            "text/plain": [
              "   id  label                                              tweet\n",
              "0   1      0   @user when a father is dysfunctional and is s...\n",
              "1   2      0  @user @user thanks for #lyft credit i can't us...\n",
              "2   3      0                                bihday your majesty\n",
              "3   4      0  #model   i love u take with u all the time in ...\n",
              "4   5      0             factsguide: society now    #motivation"
            ]
          },
          "metadata": {
            "tags": []
          },
          "execution_count": 3
        }
      ]
    },
    {
      "cell_type": "markdown",
      "metadata": {
        "id": "mEoQGNsiTcgA"
      },
      "source": [
        "**Looking at the provided dataset**"
      ]
    },
    {
      "cell_type": "code",
      "metadata": {
        "colab": {
          "base_uri": "https://localhost:8080/",
          "height": 282
        },
        "id": "D-MTi2Sk6SiX",
        "outputId": "61dcf4b2-b4b1-43d7-c07c-74e439eaadff"
      },
      "source": [
        "train_set['label'].plot.hist(stacked=True)"
      ],
      "execution_count": 4,
      "outputs": [
        {
          "output_type": "execute_result",
          "data": {
            "text/plain": [
              "<matplotlib.axes._subplots.AxesSubplot at 0x7fe907364890>"
            ]
          },
          "metadata": {
            "tags": []
          },
          "execution_count": 4
        },
        {
          "output_type": "display_data",
          "data": {
            "image/png": "[encoded data removed]",
            "text/plain": [
              "<Figure size 432x288 with 1 Axes>"
            ]
          },
          "metadata": {
            "tags": [],
            "needs_background": "light"
          }
        }
      ]
    },
    {
      "cell_type": "markdown",
      "metadata": {
        "id": "i3uY1XbhT1_v"
      },
      "source": [
        "**Downloading Stopwords (The Words that do not contribute to the sentiment like \"The\", \"this\" etc.)**"
      ]
    },
    {
      "cell_type": "code",
      "metadata": {
        "id": "wPGDJz-H7Uho",
        "colab": {
          "base_uri": "https://localhost:8080/"
        },
        "outputId": "db968374-dd41-4c02-9a07-7abab7701128"
      },
      "source": [
        "nltk.download('stopwords')\n",
        "stop_words = set(stopwords.words('english'))"
      ],
      "execution_count": 5,
      "outputs": [
        {
          "output_type": "stream",
          "text": [
            "[nltk_data] Downloading package stopwords to /root/nltk_data...\n",
            "[nltk_data]   Unzipping corpora/stopwords.zip.\n"
          ],
          "name": "stdout"
        }
      ]
    },
    {
      "cell_type": "markdown",
      "metadata": {
        "id": "fbS8wU_bUdvf"
      },
      "source": [
        "**Removing Stopwords**"
      ]
    },
    {
      "cell_type": "code",
      "metadata": {
        "id": "3FGFsh_m7bEN"
      },
      "source": [
        "def remove_stopwords(line):\n",
        "    word_tokens = word_tokenize(line)\n",
        "    filtered_sentence = [w for w in word_tokens if not w in stop_words] \n",
        "    return \" \".join(filtered_sentence)"
      ],
      "execution_count": 6,
      "outputs": []
    },
    {
      "cell_type": "markdown",
      "metadata": {
        "id": "5xwhReFuU-Fw"
      },
      "source": [
        "**Preprocessing the lines by removing the stopwords, punctuations and making all the letter to lower case**"
      ]
    },
    {
      "cell_type": "code",
      "metadata": {
        "id": "PiaeZ8eA9vJD"
      },
      "source": [
        "def preprocess(line):\n",
        "    line = line.lower()  #convert to lowercase\n",
        "    line = re.sub(r'\\d+', '', line)  #remove numbers\n",
        "    line = line.translate(line.maketrans(\"\",\"\", string.punctuation))  #remove punctuation\n",
        "    line = remove_stopwords(line)\n",
        "    return line"
      ],
      "execution_count": 7,
      "outputs": []
    },
    {
      "cell_type": "markdown",
      "metadata": {
        "id": "0ootZERIVpbA"
      },
      "source": [
        "**Package to tokenize words**"
      ]
    },
    {
      "cell_type": "code",
      "metadata": {
        "colab": {
          "base_uri": "https://localhost:8080/"
        },
        "id": "yvNSIEEF-Bgd",
        "outputId": "85e6c8ea-1ff5-4319-915d-42379d2702a7"
      },
      "source": [
        "nltk.download('punkt')"
      ],
      "execution_count": 11,
      "outputs": [
        {
          "output_type": "stream",
          "text": [
            "[nltk_data] Downloading package punkt to /root/nltk_data...\n",
            "[nltk_data]   Package punkt is already up-to-date!\n"
          ],
          "name": "stdout"
        },
        {
          "output_type": "execute_result",
          "data": {
            "text/plain": [
              "True"
            ]
          },
          "metadata": {
            "tags": []
          },
          "execution_count": 11
        }
      ]
    },
    {
      "cell_type": "code",
      "metadata": {
        "colab": {
          "base_uri": "https://localhost:8080/"
        },
        "id": "sfbXUY2g9zdi",
        "outputId": "890d2ddc-bdc0-4b67-9001-d21d795fe97b"
      },
      "source": [
        "for i,line in enumerate(train_set.tweet):\n",
        "    train_set.tweet[i] = preprocess(line)"
      ],
      "execution_count": 12,
      "outputs": [
        {
          "output_type": "stream",
          "text": [
            "/usr/local/lib/python3.7/dist-packages/ipykernel_launcher.py:2: SettingWithCopyWarning: \n",
            "A value is trying to be set on a copy of a slice from a DataFrame\n",
            "\n",
            "See the caveats in the documentation: https://pandas.pydata.org/pandas-docs/stable/user_guide/indexing.html#returning-a-view-versus-a-copy\n",
            "  \n"
          ],
          "name": "stderr"
        }
      ]
    },
    {
      "cell_type": "markdown",
      "metadata": {
        "id": "G7qTwGDqV5sf"
      },
      "source": [
        "**Splitting the dataset into train and validation set**"
      ]
    },
    {
      "cell_type": "code",
      "metadata": {
        "colab": {
          "base_uri": "https://localhost:8080/"
        },
        "id": "DyYbZRkQBGb8",
        "outputId": "8f623e16-7334-405c-b953-ba8261803e4d"
      },
      "source": [
        "from sklearn.model_selection import train_test_split\n",
        "\n",
        "X_train, X_test, y_train, y_test = train_test_split(train_set['tweet'], train_set['label'], test_size=0.5, stratify=train_set['label'])\n",
        "\n",
        "trainp=train_set[train_set.label==1]\n",
        "trainn=train_set[train_set.label==0]\n",
        "print(trainp.info())\n",
        "trainn.info()"
      ],
      "execution_count": 13,
      "outputs": [
        {
          "output_type": "stream",
          "text": [
            "<class 'pandas.core.frame.DataFrame'>\n",
            "Int64Index: 2242 entries, 13 to 31960\n",
            "Data columns (total 3 columns):\n",
            " #   Column  Non-Null Count  Dtype \n",
            "---  ------  --------------  ----- \n",
            " 0   id      2242 non-null   int64 \n",
            " 1   label   2242 non-null   int64 \n",
            " 2   tweet   2242 non-null   object\n",
            "dtypes: int64(2), object(1)\n",
            "memory usage: 70.1+ KB\n",
            "None\n",
            "<class 'pandas.core.frame.DataFrame'>\n",
            "Int64Index: 29720 entries, 0 to 31961\n",
            "Data columns (total 3 columns):\n",
            " #   Column  Non-Null Count  Dtype \n",
            "---  ------  --------------  ----- \n",
            " 0   id      29720 non-null  int64 \n",
            " 1   label   29720 non-null  int64 \n",
            " 2   tweet   29720 non-null  object\n",
            "dtypes: int64(2), object(1)\n",
            "memory usage: 928.8+ KB\n"
          ],
          "name": "stdout"
        }
      ]
    },
    {
      "cell_type": "markdown",
      "metadata": {
        "id": "BwBeqKJsWG6H"
      },
      "source": [
        "**Upsampling the negative entries so that we get a balanced dataset**"
      ]
    },
    {
      "cell_type": "code",
      "metadata": {
        "colab": {
          "base_uri": "https://localhost:8080/"
        },
        "id": "nJgun7iq952l",
        "outputId": "7ae72e2c-22aa-45ae-a783-7ab26f27b926"
      },
      "source": [
        "train_imbalanced = train_set\n",
        "from sklearn.utils import resample\n",
        "df_majority = train_set[train_set.label==0]\n",
        "df_minority = train_set[train_set.label==1]\n",
        " \n",
        "# Upsample minority class\n",
        "df_minority_upsampled = resample(df_minority, \n",
        "                                 replace=True,     # sample with replacement\n",
        "                                 n_samples=len(df_majority),    # to match majority class\n",
        "                                 random_state=123) # reproducible results\n",
        " \n",
        "# Combine majority class with upsampled minority class\n",
        "df_upsampled = pd.concat([df_majority, df_minority_upsampled])\n",
        " \n",
        "# Display new class counts\n",
        "print(\"Before\")\n",
        "print(train_set.label.value_counts())\n",
        "print(\"After\")\n",
        "print(df_upsampled.label.value_counts())\n",
        "\n",
        "X_train, X_test, y_train, y_test = train_test_split(df_upsampled['tweet'], df_upsampled['label'], test_size=0.5, stratify=df_upsampled['label'])"
      ],
      "execution_count": 14,
      "outputs": [
        {
          "output_type": "stream",
          "text": [
            "Before\n",
            "0    29720\n",
            "1     2242\n",
            "Name: label, dtype: int64\n",
            "After\n",
            "1    29720\n",
            "0    29720\n",
            "Name: label, dtype: int64\n"
          ],
          "name": "stdout"
        }
      ]
    },
    {
      "cell_type": "markdown",
      "metadata": {
        "id": "eUdvNVnGWWc3"
      },
      "source": [
        "**Using our first algorithm Naive Bayes**"
      ]
    },
    {
      "cell_type": "code",
      "metadata": {
        "id": "tQDpzy47An-s"
      },
      "source": [
        "from sklearn.naive_bayes import MultinomialNB\n",
        "model = MultinomialNB()"
      ],
      "execution_count": 16,
      "outputs": []
    },
    {
      "cell_type": "markdown",
      "metadata": {
        "id": "f-Bo6PfpWnf4"
      },
      "source": [
        "**Giving words a certain value (in this case integers)**"
      ]
    },
    {
      "cell_type": "code",
      "metadata": {
        "id": "VMRJyqLABeq2"
      },
      "source": [
        "from sklearn.feature_extraction.text import CountVectorizer, TfidfVectorizer\n",
        "vect = CountVectorizer()\n",
        "tf_train=vect.fit_transform(X_train)  #train the vectorizer, build the vocablury\n",
        "tf_test=vect.transform(X_test)  #get same encodings on test data as of vocabulary built\n"
      ],
      "execution_count": 17,
      "outputs": []
    },
    {
      "cell_type": "code",
      "metadata": {
        "id": "bVDF8UjgBh2h"
      },
      "source": [
        "tf_test_nolabel=vect.transform(test_set.tweet)"
      ],
      "execution_count": 18,
      "outputs": []
    },
    {
      "cell_type": "code",
      "metadata": {
        "colab": {
          "base_uri": "https://localhost:8080/"
        },
        "id": "m4LdV8PfBll5",
        "outputId": "9dc49f87-4eca-4ddf-da34-b76567c7f0e7"
      },
      "source": [
        "model.fit(X=tf_train,y=y_train)"
      ],
      "execution_count": 19,
      "outputs": [
        {
          "output_type": "execute_result",
          "data": {
            "text/plain": [
              "MultinomialNB(alpha=1.0, class_prior=None, fit_prior=True)"
            ]
          },
          "metadata": {
            "tags": []
          },
          "execution_count": 19
        }
      ]
    },
    {
      "cell_type": "code",
      "metadata": {
        "id": "7a0knU5TB37V"
      },
      "source": [
        "expected = y_test\n",
        "predicted=model.predict(tf_test)"
      ],
      "execution_count": 20,
      "outputs": []
    },
    {
      "cell_type": "markdown",
      "metadata": {
        "id": "dNuethZIXMVI"
      },
      "source": [
        "**Importing Metrics**"
      ]
    },
    {
      "cell_type": "code",
      "metadata": {
        "colab": {
          "base_uri": "https://localhost:8080/"
        },
        "id": "oTzGOif_B7N5",
        "outputId": "3faaf9ed-33ff-4847-b8ae-a07c3a20117e"
      },
      "source": [
        "from sklearn import metrics\n",
        "\n",
        "print(metrics.classification_report(expected, predicted))\n",
        "print(metrics.confusion_matrix(expected, predicted))"
      ],
      "execution_count": 22,
      "outputs": [
        {
          "output_type": "stream",
          "text": [
            "              precision    recall  f1-score   support\n",
            "\n",
            "           0       0.98      0.91      0.95     14860\n",
            "           1       0.92      0.98      0.95     14860\n",
            "\n",
            "    accuracy                           0.95     29720\n",
            "   macro avg       0.95      0.95      0.95     29720\n",
            "weighted avg       0.95      0.95      0.95     29720\n",
            "\n",
            "[[13579  1281]\n",
            " [  268 14592]]\n"
          ],
          "name": "stdout"
        }
      ]
    },
    {
      "cell_type": "markdown",
      "metadata": {
        "id": "wrt5Var0XyMv"
      },
      "source": [
        "**Confusion Matrix**"
      ]
    },
    {
      "cell_type": "code",
      "metadata": {
        "colab": {
          "base_uri": "https://localhost:8080/",
          "height": 313
        },
        "id": "UwpzootTB9NQ",
        "outputId": "7f927eff-709b-4f1f-e329-f9a5ffea173c"
      },
      "source": [
        "from mlxtend.plotting import plot_confusion_matrix\n",
        "\n",
        "plot_confusion_matrix(metrics.confusion_matrix(expected, predicted))"
      ],
      "execution_count": 23,
      "outputs": [
        {
          "output_type": "execute_result",
          "data": {
            "text/plain": [
              "(<Figure size 432x288 with 1 Axes>,\n",
              " <matplotlib.axes._subplots.AxesSubplot at 0x7fe9056dbcd0>)"
            ]
          },
          "metadata": {
            "tags": []
          },
          "execution_count": 23
        },
        {
          "output_type": "display_data",
          "data": {
            "image/png": "[encoded data removed]",
            "text/plain": [
              "<Figure size 432x288 with 1 Axes>"
            ]
          },
          "metadata": {
            "tags": [],
            "needs_background": "light"
          }
        }
      ]
    },
    {
      "cell_type": "markdown",
      "metadata": {
        "id": "-Amf7fw-X5oH"
      },
      "source": [
        "**Testing on our test set**"
      ]
    },
    {
      "cell_type": "code",
      "metadata": {
        "colab": {
          "base_uri": "https://localhost:8080/"
        },
        "id": "5qwjbJKvB_oN",
        "outputId": "22c2225c-ca9a-4113-f399-d932cf7ecdfc"
      },
      "source": [
        "gg=X_test.reset_index(drop=True)\n",
        "\n",
        "for i, p in enumerate(predicted):\n",
        "    print (gg[i] + \" - \" + str(p))\n",
        "    if i>5:\n",
        "        break"
      ],
      "execution_count": 24,
      "outputs": [
        {
          "output_type": "stream",
          "text": [
            "carlpaladino trump official underfire obama remarks - 1\n",
            "omg trump suppoers deplorable dumptrump notmypresident deplorable - 1\n",
            "chick gets fucked videos big asses havin sex - 1\n",
            "user one cantwait - 0\n",
            "user also cant love usa hea suppo trump hates half theâ¦ - 1\n",
            "obama tells trump american people fk leaves cant say anything - 1\n",
            "user pa locks tv itsmall clip broken quoted days new one - 0\n"
          ],
          "name": "stdout"
        }
      ]
    },
    {
      "cell_type": "code",
      "metadata": {
        "colab": {
          "base_uri": "https://localhost:8080/"
        },
        "id": "4PfPIZHAChxo",
        "outputId": "6c9dd123-0b6e-40b8-d2cf-b3fac9d33e5f"
      },
      "source": [
        "predicted_nolabel=model.predict(tf_test_nolabel)\n",
        "for i, p in enumerate(tf_test_nolabel):\n",
        "#     print(i)\n",
        "    print (test_set.tweet[i] + \" - \" + str(predicted_nolabel[i]))\n",
        "    if i>5:\n",
        "        break "
      ],
      "execution_count": 25,
      "outputs": [
        {
          "output_type": "stream",
          "text": [
            "#studiolife #aislife #requires #passion #dedication #willpower   to find #newmaterialsâ¦  - 0\n",
            " @user #white #supremacists want everyone to see the new â  #birdsâ #movie â and hereâs why   - 1\n",
            "safe ways to heal your #acne!!    #altwaystoheal #healthy   #healing!!  - 0\n",
            "is the hp and the cursed child book up for reservations already? if yes, where? if no, when? ððð   #harrypotter #pottermore #favorite - 0\n",
            "  3rd #bihday to my amazing, hilarious #nephew eli ahmir! uncle dave loves you and missesâ¦  - 0\n",
            "choose to be   :) #momtips  - 0\n",
            "something inside me dies ð¦ð¿â¨  eyes ness #smokeyeyes #tired  #lonely #sof #grungeâ¦  - 0\n"
          ],
          "name": "stdout"
        }
      ]
    },
    {
      "cell_type": "markdown",
      "metadata": {
        "id": "aII00Kk1YZ5f"
      },
      "source": [
        "**Testing on our custom tweets**"
      ]
    },
    {
      "cell_type": "code",
      "metadata": {
        "colab": {
          "base_uri": "https://localhost:8080/"
        },
        "id": "nQvhKo1lCuYj",
        "outputId": "cbfdbe29-a6bd-4024-ebd9-efeb81c897f5"
      },
      "source": [
        "test_custom=pd.DataFrame([\"racist\", \"white judge trial\", \"it is a horrible incident\", \"@user #white #supremacists want everyone to see the new â  #birdsâ #movie â and hereâs why\", \" @user #white #supremacists want everyone to see the new â  #birdsâ #movie â and hereâs why\", \"@user  at work: attorneys for white officer who shot #philandocastile remove black judge from presiding over trial. htâ¦\"])\n",
        "tf_custom = vect.transform(test_custom[0])\n",
        "model.predict(tf_custom)"
      ],
      "execution_count": 26,
      "outputs": [
        {
          "output_type": "execute_result",
          "data": {
            "text/plain": [
              "array([1, 1, 1, 1, 1, 1])"
            ]
          },
          "metadata": {
            "tags": []
          },
          "execution_count": 26
        }
      ]
    },
    {
      "cell_type": "markdown",
      "metadata": {
        "id": "xsBMEqdsYg2v"
      },
      "source": [
        "**Logistic regression**"
      ]
    },
    {
      "cell_type": "code",
      "metadata": {
        "id": "A25WzRmyC3Dv",
        "colab": {
          "base_uri": "https://localhost:8080/",
          "height": 598
        },
        "outputId": "bde21373-a992-4571-e05a-c65d283a7f8a"
      },
      "source": [
        "from sklearn.linear_model import LogisticRegression\n",
        "LR = LogisticRegression()\n",
        "LR.fit(X=tf_train,y=y_train)\n",
        "y_pred_LR = LR.predict(tf_test)\n",
        "plot_confusion_matrix(metrics.confusion_matrix(expected, y_pred_LR))\n",
        "print(metrics.classification_report(expected, y_pred_LR))\n",
        "print(metrics.confusion_matrix(expected, y_pred_LR))"
      ],
      "execution_count": 27,
      "outputs": [
        {
          "output_type": "stream",
          "text": [
            "/usr/local/lib/python3.7/dist-packages/sklearn/linear_model/_logistic.py:940: ConvergenceWarning: lbfgs failed to converge (status=1):\n",
            "STOP: TOTAL NO. of ITERATIONS REACHED LIMIT.\n",
            "\n",
            "Increase the number of iterations (max_iter) or scale the data as shown in:\n",
            "    https://scikit-learn.org/stable/modules/preprocessing.html\n",
            "Please also refer to the documentation for alternative solver options:\n",
            "    https://scikit-learn.org/stable/modules/linear_model.html#logistic-regression\n",
            "  extra_warning_msg=_LOGISTIC_SOLVER_CONVERGENCE_MSG)\n"
          ],
          "name": "stderr"
        },
        {
          "output_type": "stream",
          "text": [
            "              precision    recall  f1-score   support\n",
            "\n",
            "           0       0.99      0.96      0.98     14860\n",
            "           1       0.96      0.99      0.98     14860\n",
            "\n",
            "    accuracy                           0.98     29720\n",
            "   macro avg       0.98      0.98      0.98     29720\n",
            "weighted avg       0.98      0.98      0.98     29720\n",
            "\n",
            "[[14291   569]\n",
            " [  127 14733]]\n"
          ],
          "name": "stdout"
        },
        {
          "output_type": "display_data",
          "data": {
            "image/png": "[encoded data removed]",
            "text/plain": [
              "<Figure size 432x288 with 1 Axes>"
            ]
          },
          "metadata": {
            "tags": [],
            "needs_background": "light"
          }
        }
      ]
    },
    {
      "cell_type": "code",
      "metadata": {
        "colab": {
          "base_uri": "https://localhost:8080/"
        },
        "id": "MQqhaI6-6vu9",
        "outputId": "154324a9-c5e9-4ce3-ba2a-9b0e21421be9"
      },
      "source": [
        "predicted_nolabel_LR=LR.predict(tf_test_nolabel)\n",
        "for i, p in enumerate(tf_test_nolabel):\n",
        "#     print(i)\n",
        "    print (test_set.tweet[i] + \" - \" + str(predicted_nolabel[i]))\n",
        "    if i>5:\n",
        "        break "
      ],
      "execution_count": 28,
      "outputs": [
        {
          "output_type": "stream",
          "text": [
            "#studiolife #aislife #requires #passion #dedication #willpower   to find #newmaterialsâ¦  - 0\n",
            " @user #white #supremacists want everyone to see the new â  #birdsâ #movie â and hereâs why   - 1\n",
            "safe ways to heal your #acne!!    #altwaystoheal #healthy   #healing!!  - 0\n",
            "is the hp and the cursed child book up for reservations already? if yes, where? if no, when? ððð   #harrypotter #pottermore #favorite - 0\n",
            "  3rd #bihday to my amazing, hilarious #nephew eli ahmir! uncle dave loves you and missesâ¦  - 0\n",
            "choose to be   :) #momtips  - 0\n",
            "something inside me dies ð¦ð¿â¨  eyes ness #smokeyeyes #tired  #lonely #sof #grungeâ¦  - 0\n"
          ],
          "name": "stdout"
        }
      ]
    },
    {
      "cell_type": "markdown",
      "metadata": {
        "id": "qwVqJ4tBYoFv"
      },
      "source": [
        "**SVM**"
      ]
    },
    {
      "cell_type": "code",
      "metadata": {
        "colab": {
          "base_uri": "https://localhost:8080/",
          "height": 518
        },
        "id": "UbyNTmq4r0Qm",
        "outputId": "80d5bb95-4f36-4bf2-b491-00eaaf2bfdaa"
      },
      "source": [
        "from sklearn.svm import LinearSVC\n",
        "SVM = LinearSVC()\n",
        "SVM.fit(tf_train, y_train)\n",
        "y_pred_SVM = SVM.predict(tf_test)\n",
        "plot_confusion_matrix(metrics.confusion_matrix(expected, y_pred_SVM))\n",
        "print(metrics.classification_report(expected, y_pred_SVM))\n",
        "print(metrics.confusion_matrix(expected, y_pred_SVM))"
      ],
      "execution_count": 29,
      "outputs": [
        {
          "output_type": "stream",
          "text": [
            "/usr/local/lib/python3.7/dist-packages/sklearn/svm/_base.py:947: ConvergenceWarning: Liblinear failed to converge, increase the number of iterations.\n",
            "  \"the number of iterations.\", ConvergenceWarning)\n"
          ],
          "name": "stderr"
        },
        {
          "output_type": "stream",
          "text": [
            "              precision    recall  f1-score   support\n",
            "\n",
            "           0       1.00      0.96      0.98     14860\n",
            "           1       0.97      1.00      0.98     14860\n",
            "\n",
            "    accuracy                           0.98     29720\n",
            "   macro avg       0.98      0.98      0.98     29720\n",
            "weighted avg       0.98      0.98      0.98     29720\n",
            "\n",
            "[[14334   526]\n",
            " [   56 14804]]\n"
          ],
          "name": "stdout"
        },
        {
          "output_type": "display_data",
          "data": {
            "image/png": "[encoded data removed]",
            "text/plain": [
              "<Figure size 432x288 with 1 Axes>"
            ]
          },
          "metadata": {
            "tags": [],
            "needs_background": "light"
          }
        }
      ]
    },
    {
      "cell_type": "code",
      "metadata": {
        "colab": {
          "base_uri": "https://localhost:8080/"
        },
        "id": "blGmRFY_7CSM",
        "outputId": "f67ef64c-41c8-42a9-ad36-0491b3addbd5"
      },
      "source": [
        "predicted_nolabel=SVM.predict(tf_test_nolabel)\n",
        "for i, p in enumerate(tf_test_nolabel):\n",
        "#     print(i)\n",
        "    print (test_set.tweet[i] + \" - \" + str(predicted_nolabel[i]))\n",
        "    if i>5:\n",
        "        break "
      ],
      "execution_count": 30,
      "outputs": [
        {
          "output_type": "stream",
          "text": [
            "#studiolife #aislife #requires #passion #dedication #willpower   to find #newmaterialsâ¦  - 0\n",
            " @user #white #supremacists want everyone to see the new â  #birdsâ #movie â and hereâs why   - 0\n",
            "safe ways to heal your #acne!!    #altwaystoheal #healthy   #healing!!  - 0\n",
            "is the hp and the cursed child book up for reservations already? if yes, where? if no, when? ððð   #harrypotter #pottermore #favorite - 0\n",
            "  3rd #bihday to my amazing, hilarious #nephew eli ahmir! uncle dave loves you and missesâ¦  - 0\n",
            "choose to be   :) #momtips  - 0\n",
            "something inside me dies ð¦ð¿â¨  eyes ness #smokeyeyes #tired  #lonely #sof #grungeâ¦  - 0\n"
          ],
          "name": "stdout"
        }
      ]
    },
    {
      "cell_type": "markdown",
      "metadata": {
        "id": "4fL4ScZ-Ysjn"
      },
      "source": [
        "**K Neighbours Classifier**"
      ]
    },
    {
      "cell_type": "code",
      "metadata": {
        "colab": {
          "base_uri": "https://localhost:8080/",
          "height": 464
        },
        "id": "kwpVMSCzuCUF",
        "outputId": "4697a718-e811-4867-aeca-da19f31be61a"
      },
      "source": [
        "from sklearn.neighbors import KNeighborsClassifier\n",
        "KNN = KNeighborsClassifier(n_neighbors = 3)\n",
        "KNN.fit(tf_train, y_train)\n",
        "y_pred_KNN = KNN.predict(tf_test)\n",
        "plot_confusion_matrix(metrics.confusion_matrix(expected, y_pred_KNN))\n",
        "print(metrics.classification_report(expected, y_pred_KNN))\n",
        "print(metrics.confusion_matrix(expected, y_pred_KNN))"
      ],
      "execution_count": 31,
      "outputs": [
        {
          "output_type": "stream",
          "text": [
            "              precision    recall  f1-score   support\n",
            "\n",
            "           0       1.00      0.73      0.84     14860\n",
            "           1       0.79      1.00      0.88     14860\n",
            "\n",
            "    accuracy                           0.86     29720\n",
            "   macro avg       0.89      0.86      0.86     29720\n",
            "weighted avg       0.89      0.86      0.86     29720\n",
            "\n",
            "[[10829  4031]\n",
            " [    9 14851]]\n"
          ],
          "name": "stdout"
        },
        {
          "output_type": "display_data",
          "data": {
            "image/png": "[encoded data removed]",
            "text/plain": [
              "<Figure size 432x288 with 1 Axes>"
            ]
          },
          "metadata": {
            "tags": [],
            "needs_background": "light"
          }
        }
      ]
    },
    {
      "cell_type": "code",
      "metadata": {
        "colab": {
          "base_uri": "https://localhost:8080/"
        },
        "id": "uP2EEBaPugAT",
        "outputId": "b08db0c8-c80d-40fc-cf0c-0bbcc962281a"
      },
      "source": [
        "predicted_nolabel=KNN.predict(tf_test_nolabel)\n",
        "for i, p in enumerate(tf_test_nolabel):\n",
        "#     print(i)\n",
        "    print (test_set.tweet[i] + \" - \" + str(predicted_nolabel[i]))\n",
        "    if i>5:\n",
        "        break "
      ],
      "execution_count": 32,
      "outputs": [
        {
          "output_type": "stream",
          "text": [
            "#studiolife #aislife #requires #passion #dedication #willpower   to find #newmaterialsâ¦  - 1\n",
            " @user #white #supremacists want everyone to see the new â  #birdsâ #movie â and hereâs why   - 1\n",
            "safe ways to heal your #acne!!    #altwaystoheal #healthy   #healing!!  - 0\n",
            "is the hp and the cursed child book up for reservations already? if yes, where? if no, when? ððð   #harrypotter #pottermore #favorite - 0\n",
            "  3rd #bihday to my amazing, hilarious #nephew eli ahmir! uncle dave loves you and missesâ¦  - 0\n",
            "choose to be   :) #momtips  - 1\n",
            "something inside me dies ð¦ð¿â¨  eyes ness #smokeyeyes #tired  #lonely #sof #grungeâ¦  - 1\n"
          ],
          "name": "stdout"
        }
      ]
    },
    {
      "cell_type": "code",
      "metadata": {
        "colab": {
          "base_uri": "https://localhost:8080/"
        },
        "id": "i4vEr0lZ7Hn9",
        "outputId": "c4bc5764-6665-4703-db55-a4ea43a92059"
      },
      "source": [
        "test_custom=pd.DataFrame([\"racist\", \"white judge trial\", \"it is a horrible incident\", \"@user #white #supremacists want everyone to see the new â  #birdsâ #movie â and hereâs why\", \" @user #white #supremacists want everyone to see the new â  #birdsâ #movie â and hereâs why\", \"@user  at work: attorneys for white officer who shot #philandocastile remove black judge from presiding over trial. htâ¦\"])\n",
        "tf_custom = vect.transform(test_custom[0])\n",
        "LR.predict(tf_custom)"
      ],
      "execution_count": 33,
      "outputs": [
        {
          "output_type": "execute_result",
          "data": {
            "text/plain": [
              "array([1, 1, 0, 1, 1, 1])"
            ]
          },
          "metadata": {
            "tags": []
          },
          "execution_count": 33
        }
      ]
    },
    {
      "cell_type": "code",
      "metadata": {
        "colab": {
          "base_uri": "https://localhost:8080/"
        },
        "id": "MLTbm_7U9GWh",
        "outputId": "2207117f-93a0-4457-e075-bcb016c8eb70"
      },
      "source": [
        "SVM.predict(tf_custom)"
      ],
      "execution_count": 34,
      "outputs": [
        {
          "output_type": "execute_result",
          "data": {
            "text/plain": [
              "array([1, 1, 0, 0, 0, 1])"
            ]
          },
          "metadata": {
            "tags": []
          },
          "execution_count": 34
        }
      ]
    },
    {
      "cell_type": "code",
      "metadata": {
        "colab": {
          "base_uri": "https://localhost:8080/"
        },
        "id": "9RpDjQ7y9OYg",
        "outputId": "3ff35c23-6133-4b60-a24f-0d54643ff7ca"
      },
      "source": [
        "KNN.predict(tf_custom)"
      ],
      "execution_count": 35,
      "outputs": [
        {
          "output_type": "execute_result",
          "data": {
            "text/plain": [
              "array([1, 1, 1, 1, 1, 1])"
            ]
          },
          "metadata": {
            "tags": []
          },
          "execution_count": 35
        }
      ]
    },
    {
      "cell_type": "code",
      "metadata": {
        "id": "15Pww5UJ9rKP"
      },
      "source": [
        ""
      ],
      "execution_count": null,
      "outputs": []
    }
  ]
}